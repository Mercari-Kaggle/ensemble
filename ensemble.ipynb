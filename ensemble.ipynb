{
 "cells": [
  {
   "cell_type": "code",
   "execution_count": 1,
   "metadata": {
    "collapsed": true
   },
   "outputs": [],
   "source": [
    "import glob\n",
    "import datetime\n",
    "import pandas as pd\n",
    "import numpy as np"
   ]
  },
  {
   "cell_type": "code",
   "execution_count": 2,
   "metadata": {
    "collapsed": true
   },
   "outputs": [],
   "source": [
    "results_folder = '_results/'\n",
    "ensemble_folder = 'ensemble/'"
   ]
  },
  {
   "cell_type": "code",
   "execution_count": 3,
   "metadata": {
    "collapsed": true
   },
   "outputs": [],
   "source": [
    "result_files = glob.glob(results_folder+'*.csv')"
   ]
  },
  {
   "cell_type": "code",
   "execution_count": 4,
   "metadata": {
    "collapsed": true
   },
   "outputs": [],
   "source": [
    "import collections\n",
    "c = collections.Counter()\n",
    "d = collections.defaultdict(list)\n",
    "for f in result_files:\n",
    "    dropped = '_'.join(f.split('\\\\')[1].split('_')[2:-2])\n",
    "    score = float(f.split('\\\\')[1].split('_')[-2])\n",
    "    c.update([dropped])\n",
    "    d[dropped].append(score)"
   ]
  },
  {
   "cell_type": "code",
   "execution_count": 5,
   "metadata": {},
   "outputs": [
    {
     "name": "stdout",
     "output_type": "stream",
     "text": [
      "category_name 22 0.442073682075\n",
      "brand_name_category_name 11 0.443972755392\n",
      "brand_name_item_description 14 0.444303521659\n",
      "category_name_item_description 14 0.442679165097\n",
      "brand_name 24 0.442722964327\n",
      "None 13 0.439853100645\n",
      "item_description 7 0.440130596506\n",
      "brand_name_category_name_item_description 8 0.443861870788\n"
     ]
    }
   ],
   "source": [
    "for k in d:\n",
    "    print(k, c[k], np.mean(d[k]))"
   ]
  },
  {
   "cell_type": "code",
   "execution_count": 6,
   "metadata": {
    "collapsed": true
   },
   "outputs": [],
   "source": [
    "score = {f:float(f.split('_')[-2])**-10 for f in result_files}\n",
    "score_sum = np.sum(list(score.values()))"
   ]
  },
  {
   "cell_type": "code",
   "execution_count": 7,
   "metadata": {
    "collapsed": true
   },
   "outputs": [],
   "source": [
    "summit = pd.read_csv(result_files[0])\n",
    "summit['price'] = 0"
   ]
  },
  {
   "cell_type": "code",
   "execution_count": 8,
   "metadata": {},
   "outputs": [
    {
     "name": "stdout",
     "output_type": "stream",
     "text": [
      "weight_sum 1.0\n"
     ]
    }
   ],
   "source": [
    "each_weights = list()\n",
    "for f in result_files:\n",
    "    weight = score[f] / score_sum\n",
    "    each_weights.append(weight)\n",
    "#     summit['price'] += (pd.read_csv(f)['price'].values) * (weight)\n",
    "    summit['price'] += np.log1p((pd.read_csv(f)['price'].values)) * (weight)\n",
    "\n",
    "weight_sum = np.sum(each_weights)\n",
    "print('weight_sum', weight_sum)\n",
    "assert (weight_sum-1) < 0.0001\n",
    "summit['price'] = np.expm1(summit['price'])"
   ]
  },
  {
   "cell_type": "code",
   "execution_count": 9,
   "metadata": {
    "collapsed": true
   },
   "outputs": [],
   "source": [
    "now = datetime.datetime.now().strftime('%Y%m%d%H%M%S')\n",
    "message = 'None'\n",
    "if not message:\n",
    "    message = 'None'"
   ]
  },
  {
   "cell_type": "code",
   "execution_count": null,
   "metadata": {
    "collapsed": true
   },
   "outputs": [],
   "source": []
  },
  {
   "cell_type": "code",
   "execution_count": 10,
   "metadata": {
    "collapsed": true
   },
   "outputs": [],
   "source": [
    "summit.to_csv(ensemble_folder+'{}_{}_{}ensemble_notrescale.csv'.format(now, message, len(each_weights)), index=False)"
   ]
  },
  {
   "cell_type": "code",
   "execution_count": 11,
   "metadata": {
    "collapsed": true
   },
   "outputs": [],
   "source": [
    "# summit['price'] = summit['price'] / weight_sum\n",
    "# summit.to_csv(ensemble_folder+'{}_{}_{}ensemble_rescale.csv'.format(now, message, len(each_weights)), index=False)"
   ]
  },
  {
   "cell_type": "code",
   "execution_count": null,
   "metadata": {
    "collapsed": true
   },
   "outputs": [],
   "source": []
  },
  {
   "cell_type": "code",
   "execution_count": 12,
   "metadata": {
    "collapsed": true
   },
   "outputs": [],
   "source": [
    "# %%time\n",
    "# import os\n",
    "# datafolder = '../input/'\n",
    "# filenames = os.listdir(datafolder)\n",
    "# data = dict()\n",
    "# for i in filenames:\n",
    "#     topic, *mid, filetype = i.split('.')\n",
    "#     if filetype == 'tsv':\n",
    "#         data[topic] = pd.read_table(datafolder + i)\n",
    "#     elif filetype == 'csv':\n",
    "#         data[topic] = pd.read_csv(datafolder + i)\n",
    "#     else:\n",
    "#         pass\n",
    "\n",
    "# train_df = data['train']\n",
    "# train_prices = np.array(list(set(train_df['price'])))\n",
    "# nearest_prices = train_prices[summit['price'].apply(lambda x: np.argmin(np.abs(train_prices-x)))]\n",
    "# summit['price'] = nearest_prices\n",
    "# summit.to_csv(ensemble_folder+'{}_{}_{}ensemble_notrescale.csv'.format(now, message, len(each_weights)), index=False)"
   ]
  }
 ],
 "metadata": {
  "kernelspec": {
   "display_name": "Python 3",
   "language": "python",
   "name": "python3"
  },
  "language_info": {
   "codemirror_mode": {
    "name": "ipython",
    "version": 3
   },
   "file_extension": ".py",
   "mimetype": "text/x-python",
   "name": "python",
   "nbconvert_exporter": "python",
   "pygments_lexer": "ipython3",
   "version": "3.5.3"
  }
 },
 "nbformat": 4,
 "nbformat_minor": 2
}
